{
 "cells": [
  {
   "cell_type": "code",
   "execution_count": 4,
   "id": "43495008",
   "metadata": {},
   "outputs": [],
   "source": [
    "import pandas as pd\n",
    "import os\n",
    "from functions_georgai import visualise_data, average_data\n",
    "import matplotlib.pyplot as plt\n",
    "import numpy as np\n",
    "import netCDF4 as Dataset\n",
    "from global_land_mask import globe\n",
    "\n",
    "from sklearn.calibration import CalibrationDisplay, CalibratedClassifierCV\n",
    "from sklearn.model_selection import GridSearchCV, KFold, train_test_split, cross_val_score\n",
    "from sklearn.ensemble import RandomForestClassifier\n",
    "from sklearn.metrics import accuracy_score, classification_report, matthews_corrcoef, make_scorer, roc_auc_score, precision_recall_curve, auc, make_scorer, recall_score, f1_score\n",
    "from imblearn.under_sampling import RandomUnderSampler\n",
    "from sklearn.preprocessing import StandardScaler\n",
    "\n",
    "saving_folder=\"outputs\"\n",
    "data_path=\"/Training/development/delivered_backup/data_v03/cdd/processed/US_1990_2023_final_dataset.parquet\"\n",
    "\n",
    "def mcc_scorer(y_true, y_pred):\n",
    "    mcc_values = []\n",
    "    thresholds = np.linspace(0, 1, 100)\n",
    "    for threshold in thresholds:\n",
    "        y_pred_binary = (y_pred >= threshold).astype(int)\n",
    "        mcc_values.append(matthews_corrcoef(y_true, y_pred_binary))\n",
    "    max_mcc_index = np.argmax(mcc_values)\n",
    "    best_threshold = thresholds[max_mcc_index]\n",
    "    max_mcc = max(mcc_values)\n",
    "    return max_mcc, best_threshold\n",
    "\n",
    "\n",
    "\n",
    "data_us=pd.read_csv('/home/asanche5/Desktop/data_sinc/KOIOS_IP_run/full_predictions_US_2021_2023.csv')"
   ]
  },
  {
   "cell_type": "markdown",
   "id": "94650db7",
   "metadata": {},
   "source": [
    "### MCC score of US \n",
    "In here we calculate the MCC score of the model train in the US (2000-2020) and applied to the US for 2021 and 2022. "
   ]
  },
  {
   "cell_type": "code",
   "execution_count": 6,
   "id": "0af7b42f",
   "metadata": {},
   "outputs": [
    {
     "data": {
      "text/plain": [
       "(0.2385787842191171, 0.4747474747474748)"
      ]
     },
     "execution_count": 6,
     "metadata": {},
     "output_type": "execute_result"
    }
   ],
   "source": [
    "y_true=data_us[\"Convective_Event\"]\n",
    "y_pred=data_us[\"probability\"]\n",
    "\n",
    "mcc_scorer(y_true, y_pred)"
   ]
  },
  {
   "cell_type": "code",
   "execution_count": null,
   "id": "8bc8d81f",
   "metadata": {},
   "outputs": [],
   "source": []
  }
 ],
 "metadata": {
  "kernelspec": {
   "display_name": "Python 3 (ipykernel)",
   "language": "python",
   "name": "python3"
  },
  "language_info": {
   "codemirror_mode": {
    "name": "ipython",
    "version": 3
   },
   "file_extension": ".py",
   "mimetype": "text/x-python",
   "name": "python",
   "nbconvert_exporter": "python",
   "pygments_lexer": "ipython3",
   "version": "3.11.4"
  }
 },
 "nbformat": 4,
 "nbformat_minor": 5
}
