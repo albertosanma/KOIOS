{
 "cells": [
  {
   "cell_type": "code",
   "execution_count": 2,
   "id": "edd8c4f6",
   "metadata": {},
   "outputs": [],
   "source": [
    "from shap import TreeExplainer\n",
    "from shap import summary_plot\n",
    "import pickle as pk\n",
    "import shap\n",
    "import sys\n",
    "import os\n",
    "import pandas as pd\n",
    "\n",
    "sys.path.append(\"/home/asanche5/Desktop/data_sinc/repositories/RD_UNDP_Georg-AI_CDD_v3.0/scripts/\")\n",
    "\n",
    "from functions.data_preparer import DataPrepper as DP\n",
    "\n",
    "data_path='/home/asanche5/Desktop/data_sinc/KOIOS_IP_run/US_2000_2023_final_dataset.parquet'\n",
    "\n",
    "model_path='/home/asanche5/Desktop/data_sinc/KOIOS_IP_run/2000_2021_'\n",
    "model_end_path=\"classifier.pickle\""
   ]
  },
  {
   "cell_type": "code",
   "execution_count": 22,
   "id": "f65ee511",
   "metadata": {},
   "outputs": [],
   "source": [
    "pickled_model = pk.load(open(model_path+model_end_path, 'rb'))\n",
    "clf=pickled_model[0]"
   ]
  },
  {
   "cell_type": "code",
   "execution_count": null,
   "id": "60135482",
   "metadata": {},
   "outputs": [],
   "source": [
    "data=pd.read_parquet(data_path)"
   ]
  },
  {
   "cell_type": "code",
   "execution_count": null,
   "id": "00f886f1",
   "metadata": {},
   "outputs": [],
   "source": []
  }
 ],
 "metadata": {
  "kernelspec": {
   "display_name": "Python 3 (ipykernel)",
   "language": "python",
   "name": "python3"
  },
  "language_info": {
   "codemirror_mode": {
    "name": "ipython",
    "version": 3
   },
   "file_extension": ".py",
   "mimetype": "text/x-python",
   "name": "python",
   "nbconvert_exporter": "python",
   "pygments_lexer": "ipython3",
   "version": "3.11.4"
  }
 },
 "nbformat": 4,
 "nbformat_minor": 5
}
