{
 "cells": [
  {
   "cell_type": "code",
   "execution_count": 1,
   "id": "d212502a-e0ae-4d2c-8dba-87b547310fb6",
   "metadata": {},
   "outputs": [],
   "source": [
    "import pandas as pd\n",
    "import numpy as np\n",
    "import matplotlib.pyplot as plt\n",
    "from functions import set_column_formats\n",
    "\n",
    "base_columns=[\"latitude\",\"longitude\",\"year\",\"month\",\"day\"]\n",
    "event_columns=[\"Convective_Event\",\"EVENT_CATEGORY\"]\n",
    "model_columns=[\"totalx_max\",\"cape_max\",\"w_min\",\"p80.162_max\",\"d_min\",\"q_max\",\"cp_max\",\"tciw_max\",\"deg0l_max\",\"sp_mean\"]\n",
    "path_europe_2014_2013=\"/home/jovyan/data/xwai-convective-day-detector/1d7a6be/PROCESSED/EM/MERGED/merged_EM_2014_2023_dataset.parquet\"\n",
    "formats = {\n",
    "    'year': 'int16',  \n",
    "    'month': 'int8',  \n",
    "    'day': 'int8',\n",
    "    'Hail_Event':'int8',\n",
    "    'latitude':'float32',\n",
    "    'longitude':'float32',\n",
    "}"
   ]
  },
  {
   "cell_type": "code",
   "execution_count": 2,
   "id": "3e3398f0-f0f9-4dd1-90f7-e6497fc31f68",
   "metadata": {},
   "outputs": [
    {
     "name": "stdout",
     "output_type": "stream",
     "text": [
      "36682011\n",
      "30187\n",
      "36638280\n",
      "13961\n"
     ]
    }
   ],
   "source": [
    "### Reading data and adding hail_Event column ###\n",
    "data_europe=pd.read_parquet(path_europe_2014_2013,columns=base_columns+model_columns+event_columns)\n",
    "data_europe=data_europe.loc[data_europe.year>2015]\n",
    "data_europe['Hail_Event'] = data_europe['EVENT_CATEGORY'].apply(lambda x: 1 if x == 9 else 0)\n",
    "\n",
    "### Removing duplicates ###\n",
    "print(len(data_europe))\n",
    "print((data_europe.Hail_Event.sum()))\n",
    "data_europe = data_europe.groupby(base_columns+model_columns, as_index=False).agg({\n",
    "    'Hail_Event': 'max'\n",
    "})\n",
    "print(len(data_europe))\n",
    "print((data_europe.Hail_Event.sum()))"
   ]
  },
  {
   "cell_type": "code",
   "execution_count": 3,
   "id": "dc01517b-2f61-41d7-bd6f-59d721d5a16a",
   "metadata": {},
   "outputs": [
    {
     "name": "stderr",
     "output_type": "stream",
     "text": [
      "/home/jovyan/KOIOS/dev/transfer_learning_europe/functions.py:25: SettingWithCopyWarning: \n",
      "A value is trying to be set on a copy of a slice from a DataFrame.\n",
      "Try using .loc[row_indexer,col_indexer] = value instead\n",
      "\n",
      "See the caveats in the documentation: https://pandas.pydata.org/pandas-docs/stable/user_guide/indexing.html#returning-a-view-versus-a-copy\n",
      "  df[column] = df[column].astype(fmt)\n",
      "/home/jovyan/KOIOS/dev/transfer_learning_europe/functions.py:25: SettingWithCopyWarning: \n",
      "A value is trying to be set on a copy of a slice from a DataFrame.\n",
      "Try using .loc[row_indexer,col_indexer] = value instead\n",
      "\n",
      "See the caveats in the documentation: https://pandas.pydata.org/pandas-docs/stable/user_guide/indexing.html#returning-a-view-versus-a-copy\n",
      "  df[column] = df[column].astype(fmt)\n",
      "/home/jovyan/KOIOS/dev/transfer_learning_europe/functions.py:25: SettingWithCopyWarning: \n",
      "A value is trying to be set on a copy of a slice from a DataFrame.\n",
      "Try using .loc[row_indexer,col_indexer] = value instead\n",
      "\n",
      "See the caveats in the documentation: https://pandas.pydata.org/pandas-docs/stable/user_guide/indexing.html#returning-a-view-versus-a-copy\n",
      "  df[column] = df[column].astype(fmt)\n",
      "/home/jovyan/KOIOS/dev/transfer_learning_europe/functions.py:25: SettingWithCopyWarning: \n",
      "A value is trying to be set on a copy of a slice from a DataFrame.\n",
      "Try using .loc[row_indexer,col_indexer] = value instead\n",
      "\n",
      "See the caveats in the documentation: https://pandas.pydata.org/pandas-docs/stable/user_guide/indexing.html#returning-a-view-versus-a-copy\n",
      "  df[column] = df[column].astype(fmt)\n",
      "/home/jovyan/KOIOS/dev/transfer_learning_europe/functions.py:25: SettingWithCopyWarning: \n",
      "A value is trying to be set on a copy of a slice from a DataFrame.\n",
      "Try using .loc[row_indexer,col_indexer] = value instead\n",
      "\n",
      "See the caveats in the documentation: https://pandas.pydata.org/pandas-docs/stable/user_guide/indexing.html#returning-a-view-versus-a-copy\n",
      "  df[column] = df[column].astype(fmt)\n",
      "/home/jovyan/KOIOS/dev/transfer_learning_europe/functions.py:25: SettingWithCopyWarning: \n",
      "A value is trying to be set on a copy of a slice from a DataFrame.\n",
      "Try using .loc[row_indexer,col_indexer] = value instead\n",
      "\n",
      "See the caveats in the documentation: https://pandas.pydata.org/pandas-docs/stable/user_guide/indexing.html#returning-a-view-versus-a-copy\n",
      "  df[column] = df[column].astype(fmt)\n",
      "/home/jovyan/KOIOS/dev/transfer_learning_europe/functions.py:25: SettingWithCopyWarning: \n",
      "A value is trying to be set on a copy of a slice from a DataFrame.\n",
      "Try using .loc[row_indexer,col_indexer] = value instead\n",
      "\n",
      "See the caveats in the documentation: https://pandas.pydata.org/pandas-docs/stable/user_guide/indexing.html#returning-a-view-versus-a-copy\n",
      "  df[column] = df[column].astype(fmt)\n",
      "/home/jovyan/KOIOS/dev/transfer_learning_europe/functions.py:25: SettingWithCopyWarning: \n",
      "A value is trying to be set on a copy of a slice from a DataFrame.\n",
      "Try using .loc[row_indexer,col_indexer] = value instead\n",
      "\n",
      "See the caveats in the documentation: https://pandas.pydata.org/pandas-docs/stable/user_guide/indexing.html#returning-a-view-versus-a-copy\n",
      "  df[column] = df[column].astype(fmt)\n",
      "/home/jovyan/KOIOS/dev/transfer_learning_europe/functions.py:25: SettingWithCopyWarning: \n",
      "A value is trying to be set on a copy of a slice from a DataFrame.\n",
      "Try using .loc[row_indexer,col_indexer] = value instead\n",
      "\n",
      "See the caveats in the documentation: https://pandas.pydata.org/pandas-docs/stable/user_guide/indexing.html#returning-a-view-versus-a-copy\n",
      "  df[column] = df[column].astype(fmt)\n",
      "/home/jovyan/KOIOS/dev/transfer_learning_europe/functions.py:25: SettingWithCopyWarning: \n",
      "A value is trying to be set on a copy of a slice from a DataFrame.\n",
      "Try using .loc[row_indexer,col_indexer] = value instead\n",
      "\n",
      "See the caveats in the documentation: https://pandas.pydata.org/pandas-docs/stable/user_guide/indexing.html#returning-a-view-versus-a-copy\n",
      "  df[column] = df[column].astype(fmt)\n",
      "/home/jovyan/KOIOS/dev/transfer_learning_europe/functions.py:25: SettingWithCopyWarning: \n",
      "A value is trying to be set on a copy of a slice from a DataFrame.\n",
      "Try using .loc[row_indexer,col_indexer] = value instead\n",
      "\n",
      "See the caveats in the documentation: https://pandas.pydata.org/pandas-docs/stable/user_guide/indexing.html#returning-a-view-versus-a-copy\n",
      "  df[column] = df[column].astype(fmt)\n",
      "/home/jovyan/KOIOS/dev/transfer_learning_europe/functions.py:25: SettingWithCopyWarning: \n",
      "A value is trying to be set on a copy of a slice from a DataFrame.\n",
      "Try using .loc[row_indexer,col_indexer] = value instead\n",
      "\n",
      "See the caveats in the documentation: https://pandas.pydata.org/pandas-docs/stable/user_guide/indexing.html#returning-a-view-versus-a-copy\n",
      "  df[column] = df[column].astype(fmt)\n"
     ]
    }
   ],
   "source": [
    "# Cropping regions\n",
    "data_central_europe=data_europe.loc[(data_europe.latitude>43) & (data_europe.latitude<52) & (data_europe.longitude>4) & (data_europe.longitude<17)]\n",
    "data_cataluña=data_europe.loc[(data_europe.latitude>=40.5) & (data_europe.latitude<=43) & (data_europe.longitude>=0) & (data_europe.longitude<=3.5)]\n",
    "\n",
    "# reducing size\n",
    "data_central_europe = set_column_formats(data_central_europe, formats)\n",
    "data_cataluña = set_column_formats(data_cataluña, formats)\n",
    "\n",
    "# Saving \n",
    "data_central_europe.to_parquet(\"/home/jovyan/data/koios/transfer_learning/koios_data_central_europe.parquet\")\n",
    "data_cataluña.to_parquet(\"/home/jovyan/data/koios/transfer_learning/koios_data_catalonia.parquet\")"
   ]
  },
  {
   "cell_type": "code",
   "execution_count": null,
   "id": "ef63ddff-f020-4cd3-95ed-4acfda529bd2",
   "metadata": {},
   "outputs": [],
   "source": []
  },
  {
   "cell_type": "code",
   "execution_count": null,
   "id": "5b2341bd-40db-40e5-a7bb-2a365f5fac5b",
   "metadata": {},
   "outputs": [],
   "source": []
  }
 ],
 "metadata": {
  "kernelspec": {
   "display_name": "Python 3 (ipykernel)",
   "language": "python",
   "name": "python3"
  },
  "language_info": {
   "codemirror_mode": {
    "name": "ipython",
    "version": 3
   },
   "file_extension": ".py",
   "mimetype": "text/x-python",
   "name": "python",
   "nbconvert_exporter": "python",
   "pygments_lexer": "ipython3",
   "version": "3.11.5"
  }
 },
 "nbformat": 4,
 "nbformat_minor": 5
}
